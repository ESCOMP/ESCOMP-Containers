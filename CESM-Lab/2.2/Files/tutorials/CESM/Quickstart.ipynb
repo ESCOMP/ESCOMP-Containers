{
 "cells": [
  {
   "cell_type": "markdown",
   "metadata": {},
   "source": [
    "<h1>CESM2 Quick Start Guide </h1>\n",
    "\n",
    "This is a very quick introduction to running CESM.  It will guide you through the basics of creating a case, modifying simple aspects of that case, building it, running it, and visualizing the outputs.  Each step will also provide links to the full CESM documentation and additional examples."
   ]
  },
  {
   "cell_type": "markdown",
   "metadata": {},
   "source": [
    "<h2> 1. Creating a CESM case</h2>\n",
    "\n",
    "CESM experiments start with creating a 'case' - a configuration of the model with a specific set of component models (eg, CAM for the atmosphere model, POP for the ocean model, etc), at a particular resolution, and with a set of options defined in XML files.  Let's start by using the 'create_newcase' command to set up an experiment with the following details:<br>\n",
    "<ul>\n",
    "    <li>compset:    QPC4</li>\n",
    "    <li>resolution: f45_f45_mg37</li>\n",
    "</ul>\n",
    "\n",
    "This is a 'simple model' - an aquaplanet configuration at 4.5-degree resolution, using CAM4 physics.  This is much less computationally intensive than a fully coupled run, so it works well for this tutorial, only requiring ~0.6GB of RAM.  It will also need to download some input files, totaling approximately 127MB of size.\n",
    "\n",
    "The command to create this configuration is given below, using 'tutorial_aquaplanet' as the casename.  Note that given the size and nature of this run, it's not a scientifically supported configuration, but it's still useful for learning how to run the model.\n",
    "\n",
    "Run the cell to issue the command:"
   ]
  },
  {
   "cell_type": "code",
   "execution_count": null,
   "metadata": {},
   "outputs": [],
   "source": [
    "create_newcase --case ~/aquaplanet_test_f45 --compset QPC4 --res f45_f45_mg37 --run-unsupported"
   ]
  },
  {
   "cell_type": "markdown",
   "metadata": {},
   "source": [
    "<br>\n",
    "<br>\n",
    "Great!  You've created the default version of your first case.  Before we move to the next section, if you want additional information on the create_newcase command or the compsets and resolutions, you can click on each section below for details and links.<br>\n",
    "<br>\n",
    "\n",
    "***\n",
    "\n",
    "<i>Additional Information:</i>\n",
    "<details>\n",
    "    <summary><i>create_newcase</i></summary>\n",
    "    \n",
    "<br>\n",
    "The 'create_newcase' command only <i>requires</i> three options - the case, compset and resolution.  However, it supports a large number of options for more advanced users.  To see a summary, you can run the command by itself:\n",
    "<br>\n",
    "<pre>\n",
    "<br>\n",
    "<i>create_newcase</i>\n",
    "usage: create_newcase [-h] [-d] [-v] [-s] --case CASENAME --compset COMPSET\n",
    "                      --res GRID [--machine MACHINE] [--compiler COMPILER]\n",
    "                      [--multi-driver] [--ninst NINST] [--mpilib MPILIB]\n",
    "                      [--project PROJECT] [--pecount PECOUNT]\n",
    "                      [--user-mods-dir USER_MODS_DIR] [--pesfile PESFILE]\n",
    "                      [--gridfile GRIDFILE] [--workflow WORKFLOW]\n",
    "                      [--srcroot SRCROOT] [--output-root OUTPUT_ROOT]\n",
    "                      [--run-unsupported] [--walltime WALLTIME] [-q QUEUE]\n",
    "                      [--handle-preexisting-dirs {a,r,u}] [-i INPUT_DIR]\n",
    "</pre>\n",
    "<br>\n",
    "Additionally, you can get detailed help via 'create_newcase --help', and you can click <a href=\"https://escomp.github.io/CESM/release-cesm2/quickstart.html#create-a-case\">here for the CESM documentation on the command</a>\n",
    "<br>\n",
    "<br>\n",
    "</details>\n",
    "<details>\n",
    "    <summary>CESM Component Sets ('compsets')</summary>\n",
    "    Not yet filled out; maybe this is too much information here?\n",
    "</details>\n",
    "<details>\n",
    "    <summary>CESM Resolutions / Grids</summary>\n",
    "    Also not filled out yet...\n",
    "</details>\n",
    "\n",
    "***\n",
    "\n",
    "<br>"
   ]
  },
  {
   "cell_type": "markdown",
   "metadata": {},
   "source": [
    "<h2> 2. Modifying a CESM case</h2>\n",
    "\n",
    "Now let's make a simple modification to the case via two easy steps:\n",
    "\n",
    "1. Change to our new case directory\n",
    "2. In that directory, change the duration of the run (in model-time)\n",
    "\n",
    "\n",
    "These changes can be made via modifying the XML files that control CESM's behavior.  We could do this by hand, but the preferred way of doing it is to use the 'xmlchange' command in the case directory.  By default, newly configured cases are set up to run for 5 model days - since we're just experimenting, we'll change it to 3 model days instead, for even faster runs.  Run the following cells to execute the two commands:\n",
    "<br>\n",
    "<br>"
   ]
  },
  {
   "cell_type": "code",
   "execution_count": null,
   "metadata": {},
   "outputs": [],
   "source": [
    "%cd ~/aquaplanet_test_f45 "
   ]
  },
  {
   "cell_type": "code",
   "execution_count": null,
   "metadata": {},
   "outputs": [],
   "source": [
    "xmlchange STOP_OPTION=ndays,STOP_N=3"
   ]
  },
  {
   "cell_type": "markdown",
   "metadata": {},
   "source": [
    "Since the default STOP_OPTION is already 'ndays', it wasn't strictly necessary to include that in the command, but by being explicit we avoid any confusion later if we had changed it previously to 'nhours' or 'nyears'. \n",
    "\n",
    "***\n",
    "\n",
    "<i>Additional information:</i>\n",
    "\n",
    "(I haven't put anything here yet; this is just for demo to give people a sense of things.  I want to keep the basic instructions light, I think!)\n",
    "\n",
    "***"
   ]
  },
  {
   "cell_type": "markdown",
   "metadata": {},
   "source": [
    "We don't see any output by 'xmlchange', but we can use another tool, 'xmlquery', to double-check that we have the new values:"
   ]
  },
  {
   "cell_type": "code",
   "execution_count": null,
   "metadata": {},
   "outputs": [],
   "source": [
    "xmlquery STOP_OPTION,STOP_N"
   ]
  },
  {
   "cell_type": "markdown",
   "metadata": {},
   "source": [
    "\n",
    "***\n",
    "\n",
    "Just putting the other commands here for now, no write-up yet:\n",
    "\n"
   ]
  },
  {
   "cell_type": "code",
   "execution_count": null,
   "metadata": {},
   "outputs": [],
   "source": [
    "case.setup"
   ]
  },
  {
   "cell_type": "code",
   "execution_count": null,
   "metadata": {},
   "outputs": [],
   "source": [
    "case.build"
   ]
  },
  {
   "cell_type": "code",
   "execution_count": null,
   "metadata": {},
   "outputs": [],
   "source": [
    "case.submit"
   ]
  },
  {
   "cell_type": "markdown",
   "metadata": {},
   "source": [
    "\n",
    "***\n",
    "\n",
    "\n",
    "<h1>TO DO:</h1>\n",
    "\n",
    "1. Add something about visualizing the results or doing statistics on the output files\n",
    "2. Add something about performance\n",
    "3. Maybe simplify / 'interactive-ize' the output from commands, especially the running?\n",
    "4. Investigate 'nhfil' warning above, or turn off DOUT_S?\n",
    "5. Emacs / Vim within Jupyter (eg, without going to bash shell in another window) - possible?\n",
    "6. CIME_OUTPUT_ROOT - if we put things in a subdirectory, that still points to home.  Can we put bld/run in case directories easily?\n",
    "7. Fix env_batch.py for non-batch jobs like this (gives a 'ERROR: No result from jobs' message, currently disabled)\n"
   ]
  }
 ],
 "metadata": {
  "kernelspec": {
   "display_name": "Python [conda env:notebook] *",
   "language": "python",
   "name": "conda-env-notebook-py"
  },
  "language_info": {
   "codemirror_mode": {
    "name": "ipython",
    "version": 3
   },
   "file_extension": ".py",
   "mimetype": "text/x-python",
   "name": "python",
   "nbconvert_exporter": "python",
   "pygments_lexer": "ipython3",
   "version": "3.7.8"
  }
 },
 "nbformat": 4,
 "nbformat_minor": 4
}
