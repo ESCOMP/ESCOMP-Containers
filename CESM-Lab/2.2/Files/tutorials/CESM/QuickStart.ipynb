{
 "cells": [
  {
   "cell_type": "markdown",
   "metadata": {},
   "source": [
    "# CESM2 - Quick Start\n",
    "\n",
    "This is a very quick introduction to running CESM.  It will guide you through the basics of creating a case, modifying simple aspects of that case, building it, running it, and use a function to provide a quick visualization of the output.  Each step will also provide links to the full CESM documentation and additional examples.\n",
    "\n",
    "**NOTE: Each step must be followed in order, otherwise you may encounter errors**\n",
    "\n",
    "\n",
    "***"
   ]
  },
  {
   "cell_type": "markdown",
   "metadata": {},
   "source": [
    "<h2> 1. Creating a CESM case</h2>\n",
    "\n",
    "CESM experiments start with creating a 'case' - a configuration of the model with a specific set of component models (eg, CAM for the atmosphere model, POP for the ocean model, etc), at a particular resolution, and with a set of options defined in XML files.  Let's start by using the 'create_newcase' command to set up an experiment with the following details:<br>\n",
    "<ul>\n",
    "    <li>compset:    QPC4</li>\n",
    "    <li>resolution: f45_f45_mg37</li>\n",
    "</ul>\n",
    "\n",
    "This is a 'simple model' - an aquaplanet configuration at 4.5-degree resolution, using CAM4 physics.  This is much less computationally intensive than a fully coupled run, so it works well for this tutorial, only requiring ~0.6GB of RAM.  It will also need to download some input files, totaling approximately 127MB of size.\n",
    "\n",
    "The command to create this configuration is given below, using 'quickstart_case' as the casename.  Note that given the size and nature of this run, it's not a scientifically supported configuration, but it's still useful for learning how to run the model.\n",
    "\n",
    "Run the cell to issue the command:"
   ]
  },
  {
   "cell_type": "code",
   "execution_count": null,
   "metadata": {},
   "outputs": [],
   "source": [
    "create_newcase --case ~/quickstart_case --compset QPC4 --res f45_f45_mg37 --run-unsupported"
   ]
  },
  {
   "cell_type": "markdown",
   "metadata": {},
   "source": [
    "<br><br>The last few lines above should look like this:\n",
    "\n",
    ">&nbsp;&nbsp;Creating Case directory /home/user/quickstart_case<br>\n",
    "This component includes user_mods /opt/ncar/cesm2/components/cam//cime_config/usermods_dirs/aquap<br>\n",
    "Adding user mods directory /opt/ncar/cesm2/components/cam/cime_config/usermods_dirs/aquap\n",
    "\n",
    "\n",
    "If so, great!  You've created the default version of your first case.  We'll cover this in more detail in an upcoming tutorial, and additional information can also be found in CESM's online [documentation](https://escomp.github.io/CESM/release-cesm2/quickstart.html#create-a-case).\n",
    "<br><br>\n",
    "\n",
    "***"
   ]
  },
  {
   "cell_type": "markdown",
   "metadata": {},
   "source": [
    "<h2> 2. Modifying a CESM case</h2>\n",
    "\n",
    "Now let's make a simple modification to the case via two easy steps:\n",
    "\n",
    "1. Change to our new case directory\n",
    "2. In that directory, change the duration of the run (in model-time)\n",
    "\n",
    "\n",
    "These changes can be made via modifying the XML files that control CESM's behavior.  We could do this by hand, but the preferred way of doing it is to use the 'xmlchange' command in the case directory.  By default, newly configured cases are set up to run for 5 model days - since we're just experimenting, we'll change it to 3 model days instead, for even faster runs.  Run the following cells to execute the two commands:\n",
    "<br>\n",
    "<br>"
   ]
  },
  {
   "cell_type": "code",
   "execution_count": null,
   "metadata": {},
   "outputs": [],
   "source": [
    "cd ~/quickstart_case"
   ]
  },
  {
   "cell_type": "code",
   "execution_count": null,
   "metadata": {},
   "outputs": [],
   "source": [
    "xmlchange STOP_OPTION=ndays,STOP_N=3"
   ]
  },
  {
   "cell_type": "markdown",
   "metadata": {},
   "source": [
    "Since the default STOP_OPTION is already 'ndays', it wasn't strictly necessary to include that in the command, but by being explicit we avoid any confusion later if we had changed it previously to 'nhours' or 'nyears'. \n",
    "\n",
    "We don't see any output by 'xmlchange', but we can use another tool, 'xmlquery', to double-check that we have the new values:"
   ]
  },
  {
   "cell_type": "code",
   "execution_count": null,
   "metadata": {},
   "outputs": [],
   "source": [
    "xmlquery STOP_OPTION,STOP_N"
   ]
  },
  {
   "cell_type": "markdown",
   "metadata": {},
   "source": [
    "<br><br>Great!  You've now used the 'xmlchange' utility to modify the model's behavior, setting it up to run for 3 model days.  You can do a lot more with 'xmlchange', and we'll cover some of these in another tutorial later, and additional information can also be found in CESM's online [documentation](http://esmci.github.io/cime/versions/master/html/Tools_user/xmlchange.html)\n",
    "<br><br>\n",
    "\n",
    "***"
   ]
  },
  {
   "cell_type": "markdown",
   "metadata": {},
   "source": [
    "<h2> 3. Setting up the case</h2>\n",
    "\n",
    "The next step in running CESM is to 'setup' the case - this is done by running case.setup in the case directory.  This command sets up some user-customizable name lists that control the model's behavior, creates the directory where the run happens, and configures additional settings used in building the model.  \n",
    "\n",
    "Run the cell to issue the command:"
   ]
  },
  {
   "cell_type": "code",
   "execution_count": null,
   "metadata": {},
   "outputs": [],
   "source": [
    "case.setup"
   ]
  },
  {
   "cell_type": "markdown",
   "metadata": {},
   "source": [
    "<br><br>Great!  You've now used the 'case.setup' command to set up your case.  As the output says, you can now use the 'preview_run' command to get additional information if needed, but it's not necessary.  You can also read CESM's online documentation on [case.setup](http://esmci.github.io/cime/versions/master/html/Tools_user/case.setup.html) for more information if you like.<br><br>\n",
    "\n",
    "***"
   ]
  },
  {
   "cell_type": "markdown",
   "metadata": {},
   "source": [
    "<h2> 4. Building the case</h2>\n",
    "\n",
    "CESM supports a wide variety of configurations, including different components, physics options and source modifications, and the executable code you get is dependent on each of these, so it requires that cases be *compiled*.  The container includes all the necessary libraries and compilers, and the 'create_newcase' and 'case.setup' commands have configured everything we need, so this is a simple process on supported machines -- we just run the 'case.build' command in the cell below.\n",
    "\n",
    "Be aware that this can take a few minutes - how long depends upon the type of system you have, but estimates are ~3-6 minutes"
   ]
  },
  {
   "cell_type": "code",
   "execution_count": null,
   "metadata": {},
   "outputs": [],
   "source": [
    "case.build"
   ]
  },
  {
   "cell_type": "markdown",
   "metadata": {},
   "source": [
    "<br><br>\n",
    "Again, this will take a few minutes.  You'll know this is complete when you see the line:\n",
    "\n",
    ">&nbsp;MODEL BUILD HAS FINISHED SUCCESSFULLY\n",
    "\n",
    "If you see that, fantastic!  You've built your first CESM case!  Now we can move on to the final step of performing a simulation.<br><br>\n",
    "\n",
    "***"
   ]
  },
  {
   "cell_type": "markdown",
   "metadata": {},
   "source": [
    "<h2> 5. Running your case</h2>\n",
    "\n",
    "Running a case is also simple - we just issue the 'case.submit' command.  This will start by checking that we have all of the necessary input data for our run, and downloading whatever is missing, and then it will perform the actual simulation - which we've configured to run for 3 model days.\n",
    "\n",
    "How long the run takes, like the build, depends heavily on the type of processor you have, and how many cores it has.  Expect this to take from 1-3 minutes after the data download is finished."
   ]
  },
  {
   "cell_type": "code",
   "execution_count": null,
   "metadata": {},
   "outputs": [],
   "source": [
    "case.submit"
   ]
  },
  {
   "cell_type": "markdown",
   "metadata": {},
   "source": [
    "<br><br>When this step finishes, the run will complete, then the 'archive' script will execute.  You will see a few warning messages about 'No such variable' - these are normal, and can be ignored.  The final lines should look like:\n",
    "\n",
    ">Submitted job case.run with id None<br>\n",
    "Submitted job case.st_archive with id None\n",
    "\n",
    "\n",
    "If you see those, congratulations!  You've run your first case -- there's a *lot* of text shown above, and we'll cover it in more detail in another tutorial, and more information can also be found in the [documentation](https://escomp.github.io/CESM/versions/cesm2.2/html/quickstart.html#run-the-case).<br><br>\n",
    "\n",
    "***"
   ]
  },
  {
   "cell_type": "markdown",
   "metadata": {},
   "source": [
    "<h2> 6.  Continuing a run </h2>\n",
    "\n",
    "We've run our case for three model days as an initial test, but now let's go back and *continue* that run for 28 more days so we have a full month of output.  This is better for estimating performance, *and* will give us a monthly history output file that we can use to visualize results.\n",
    "\n",
    "To do this, we'll use the 'xmlchange' utility to tell CESM to continue the run, and to set the number of days for the new run to 28.  Then we'll call 'case.submit' again.  Since we're running 9.3x longer (28 days vs. 3), we should expect this to take roughly 9.3x longer.  Enter the commands below, then grab a cup of coffee as the model runs!"
   ]
  },
  {
   "cell_type": "code",
   "execution_count": null,
   "metadata": {},
   "outputs": [],
   "source": [
    "xmlchange CONTINUE_RUN=true,STOP_N=28"
   ]
  },
  {
   "cell_type": "code",
   "execution_count": null,
   "metadata": {},
   "outputs": [],
   "source": [
    "case.submit"
   ]
  },
  {
   "cell_type": "markdown",
   "metadata": {},
   "source": [
    "<br><br>Excellent - you'll notice that this time the output was a little less, since it didn't need to download any new input data.  We're just continuing a run that we have all the input data for.<br><br>\n",
    "\n",
    "***"
   ]
  },
  {
   "cell_type": "markdown",
   "metadata": {},
   "source": [
    "<h2> 6. Visualize the output </h2>\n",
    "\n",
    "As a final step, let's take a quick look at visualizing our output.  Visualization in Jupyter Notebooks is a huge topic, and there are countless ways of analyzing and processing CESM's output.  Since this is a 'quickstart' tutorial, we're going to use an existing function provided by the 'cesm' python package.  This function, 'QuickView', takes the name of a case and one of several variables -'T' (temperature) in this case- and plots the variable with a global overlay for the lowest vertical level of the model.  We'll look at more advanced visualizations in other tutorial lessons."
   ]
  },
  {
   "cell_type": "code",
   "execution_count": null,
   "metadata": {},
   "outputs": [],
   "source": [
    "from cesm import QuickView\n",
    "QuickView('quickstart_case', 'T')"
   ]
  },
  {
   "cell_type": "markdown",
   "metadata": {},
   "source": [
    "And we can do a plot of 'U' just as easily:"
   ]
  },
  {
   "cell_type": "code",
   "execution_count": null,
   "metadata": {},
   "outputs": [],
   "source": [
    "QuickView('quickstart_case', 'U')"
   ]
  },
  {
   "cell_type": "markdown",
   "metadata": {},
   "source": [
    "<br><br>Congratulations - you've walked through the basic steps of using CESM : creating a case, setting it up, building it, running it, and visualizing the output.  You're all set for some of the more advanced tutorials now. "
   ]
  }
 ],
 "metadata": {
  "kernelspec": {
   "display_name": "Python [conda env:default] *",
   "language": "python",
   "name": "conda-env-default-py"
  },
  "language_info": {
   "codemirror_mode": {
    "name": "ipython",
    "version": 3
   },
   "file_extension": ".py",
   "mimetype": "text/x-python",
   "name": "python",
   "nbconvert_exporter": "python",
   "pygments_lexer": "ipython3",
   "version": "3.7.8"
  }
 },
 "nbformat": 4,
 "nbformat_minor": 4
}
